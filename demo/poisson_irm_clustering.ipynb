{
 "cells": [
  {
   "cell_type": "markdown",
   "source": [
    "# Poisson Infinite relational model\n",
    "\n",
    "Clustering of count data. For example, suppose the row is the user and the column is the number of purchases for each product. Use Poisson Infinite relational model when you want to cluster products with users who have the same tendency from the user's purchase history.\n"
   ],
   "metadata": {}
  },
  {
   "cell_type": "code",
   "execution_count": 1,
   "source": [
    "import numpy as np\n",
    "from scipy import stats\n",
    "\n",
    "import seaborn as sns\n",
    "import matplotlib.pyplot as plt\n",
    "\n",
    "from irmlearn import PoissonIRM"
   ],
   "outputs": [],
   "metadata": {}
  },
  {
   "cell_type": "markdown",
   "source": [
    "## Prepare data"
   ],
   "metadata": {}
  },
  {
   "cell_type": "code",
   "execution_count": 2,
   "source": [
    "def prepare_data():\n",
    "    np.random.seed(0)\n",
    "    h_gamma = [\n",
    "        (40, 10),\n",
    "        (2, 20),\n",
    "        (17, 4),\n",
    "        (20, 1),\n",
    "        (34, 11),\n",
    "        (2, 16),\n",
    "        (22, 4),\n",
    "        (30, 19),\n",
    "        (11, 31),\n",
    "        (27, 20),\n",
    "        (41, 3),\n",
    "        (20, 32),\n",
    "    ]\n",
    "\n",
    "    thetas = []\n",
    "    for h in h_gamma:\n",
    "        theta = np.random.gamma(*h, (10, 10))\n",
    "        thetas.append(theta)\n",
    "\n",
    "    temp = []\n",
    "    for i in range(0, 12, 3):\n",
    "        temp.append(\n",
    "            np.hstack([thetas[i], thetas[i+1], thetas[i+2]])\n",
    "        )\n",
    "    theta_ = np.vstack(temp)\n",
    "\n",
    "    X = stats.poisson.rvs(mu=theta_, size=theta_.shape)\n",
    "    X_ = X.copy()\n",
    "    row_index = X.shape[0]\n",
    "    col_index = X.shape[1]\n",
    "\n",
    "    X = X[np.random.permutation(row_index)]\n",
    "    X = X[:, np.random.permutation(col_index)]\n",
    "\n",
    "    return X, X_"
   ],
   "outputs": [],
   "metadata": {}
  },
  {
   "cell_type": "code",
   "execution_count": 3,
   "source": [
    "X, X_ = prepare_data()"
   ],
   "outputs": [],
   "metadata": {}
  },
  {
   "cell_type": "markdown",
   "source": [
    "Data is generated with a different probability distribution for each block."
   ],
   "metadata": {}
  },
  {
   "cell_type": "code",
   "execution_count": 4,
   "source": [
    "plt.figure(figsize=(10, 7))\n",
    "sns.heatmap(X_, cmap=\"Greens\")\n",
    "plt.axis('off')\n",
    "plt.show()"
   ],
   "outputs": [
    {
     "output_type": "display_data",
     "data": {
      "image/png": "[encoded data removed]",
      "text/plain": [
       "<Figure size 720x504 with 2 Axes>"
      ]
     },
     "metadata": {
      "needs_background": "light"
     }
    }
   ],
   "metadata": {}
  },
  {
   "cell_type": "markdown",
   "source": [
    "Shuffle rows and columns to make train data."
   ],
   "metadata": {}
  },
  {
   "cell_type": "code",
   "execution_count": 5,
   "source": [
    "plt.figure(figsize=(10, 7))\n",
    "sns.heatmap(X, cmap=\"Greens\")\n",
    "plt.axis('off')\n",
    "plt.show()"
   ],
   "outputs": [
    {
     "output_type": "display_data",
     "data": {
      "image/png": "[encoded data removed]",
      "text/plain": [
       "<Figure size 720x504 with 2 Axes>"
      ]
     },
     "metadata": {
      "needs_background": "light"
     }
    }
   ],
   "metadata": {}
  },
  {
   "cell_type": "markdown",
   "source": [
    "## Traininig"
   ],
   "metadata": {}
  },
  {
   "cell_type": "code",
   "execution_count": 6,
   "source": [
    "alpha = 0.5\n",
    "a = 5\n",
    "b = 5\n",
    "max_iter = 300\n",
    "\n",
    "model = PoissonIRM(alpha, a, b, max_iter, verbose=True, use_best_iter=True)"
   ],
   "outputs": [],
   "metadata": {}
  },
  {
   "cell_type": "code",
   "execution_count": 7,
   "source": [
    "model.fit(X)"
   ],
   "outputs": [
    {
     "output_type": "stream",
     "name": "stdout",
     "text": [
      "iter=1 -- feature label deleted, n_feature_labels: 17\n",
      "iter=1 -- feature label deleted, n_feature_labels: 16\n",
      "iter=1 -- sample label deleted, n_sample_labels: 11\n",
      "iter=1 -- feature label deleted, n_feature_labels: 15\n",
      "iter=1 -- feature label deleted, n_feature_labels: 14\n",
      "iter=1 -- sample label deleted, n_sample_labels: 10\n",
      "iter=1 -- feature label deleted, n_feature_labels: 13\n",
      "iter=1 -- feature label deleted, n_feature_labels: 12\n",
      "iter=1 -- sample label deleted, n_sample_labels: 9\n",
      "iter=1 -- feature label deleted, n_feature_labels: 11\n",
      "iter=1 -- feature label deleted, n_feature_labels: 10\n",
      "iter=1 -- feature label deleted, n_feature_labels: 9\n",
      "iter=1 -- sample label deleted, n_sample_labels: 8\n",
      "iter=1 -- feature label deleted, n_feature_labels: 8\n",
      "iter=1 -- feature label deleted, n_feature_labels: 7\n",
      "iter=1 -- sample label deleted, n_sample_labels: 7\n",
      "iter=1 -- sample label deleted, n_sample_labels: 6\n",
      "iter=1 -- sample label deleted, n_sample_labels: 5\n",
      "iter=1 -- feature label deleted, n_feature_labels: 6\n",
      "iter=1 -- feature label deleted, n_feature_labels: 5\n",
      "iter=1 -- sample label deleted, n_sample_labels: 4\n",
      "iter=1 -- feature label deleted, n_feature_labels: 4\n",
      "iter=2 -- feature label deleted, n_feature_labels: 3\n",
      "========== Finished! ==========\n",
      "best_iter=2 -- sample_n_labels: 4 -- feature_n_labels: 3\n"
     ]
    },
    {
     "output_type": "execute_result",
     "data": {
      "text/plain": [
       "PoissonIRM(a=5, alpha=0.5, b=5, max_iter=300)"
      ]
     },
     "metadata": {},
     "execution_count": 7
    }
   ],
   "metadata": {}
  },
  {
   "cell_type": "code",
   "execution_count": 8,
   "source": [
    "plt.plot(model.history_)"
   ],
   "outputs": [
    {
     "output_type": "execute_result",
     "data": {
      "text/plain": [
       "[<matplotlib.lines.Line2D at 0x7fa70c330150>]"
      ]
     },
     "metadata": {},
     "execution_count": 8
    },
    {
     "output_type": "display_data",
     "data": {
      "image/png": "[encoded data removed]",
      "text/plain": [
       "<Figure size 432x288 with 1 Axes>"
      ]
     },
     "metadata": {
      "needs_background": "light"
     }
    }
   ],
   "metadata": {}
  },
  {
   "cell_type": "code",
   "execution_count": 9,
   "source": [
    "row_index = np.argsort(model.sample_labels_)\n",
    "col_index = np.argsort(model.feature_labels_)\n",
    "X__ = X[row_index, :][:, col_index]\n",
    "\n",
    "_, hlist = np.unique(np.sort(model.sample_labels_), return_counts=True)\n",
    "_, vlist = np.unique(np.sort(model.feature_labels_), return_counts=True)\n",
    "\n",
    "hlist = np.cumsum(hlist)\n",
    "vlist = np.cumsum(vlist)\n",
    "\n",
    "plt.figure(figsize=(10, 7))\n",
    "sns.heatmap(X__, cmap=\"Greens\")\n",
    "for y in hlist[:-1]:\n",
    "    plt.axhline(y=y, linewidth=2, color=\"r\")    \n",
    "for x in vlist[:-1]:\n",
    "    plt.axvline(x=x, linewidth=2, color=\"r\")\n",
    "plt.axis(\"off\")\n",
    "plt.show()"
   ],
   "outputs": [
    {
     "output_type": "display_data",
     "data": {
      "image/png": "[encoded data removed]",
      "text/plain": [
       "<Figure size 720x504 with 2 Axes>"
      ]
     },
     "metadata": {
      "needs_background": "light"
     }
    }
   ],
   "metadata": {}
  },
  {
   "cell_type": "code",
   "execution_count": null,
   "source": [],
   "outputs": [],
   "metadata": {}
  }
 ],
 "metadata": {
  "orig_nbformat": 4,
  "language_info": {
   "name": "python",
   "version": "3.7.10",
   "mimetype": "text/x-python",
   "codemirror_mode": {
    "name": "ipython",
    "version": 3
   },
   "pygments_lexer": "ipython3",
   "nbconvert_exporter": "python",
   "file_extension": ".py"
  },
  "kernelspec": {
   "name": "python3",
   "display_name": "Python 3.7.10 64-bit ('py37': conda)"
  },
  "interpreter": {
   "hash": "97dc01d744e1b111fabdad93f9bc533634b6efa07af39458504548f2e81f9470"
  }
 },
 "nbformat": 4,
 "nbformat_minor": 2
}